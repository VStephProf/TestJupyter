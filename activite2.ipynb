{
 "cells": [
  {
   "cell_type": "markdown",
   "metadata": {},
   "source": [
    "# Chapitre 4 : Les données structurées et leur traitement"
   ]
  },
  {
   "cell_type": "markdown",
   "metadata": {},
   "source": [
    "### Activité 2 : Traitement des données"
   ]
  },
  {
   "cell_type": "markdown",
   "metadata": {},
   "source": [
    "**Enoncé page 64 du manuel**"
   ]
  },
  {
   "cell_type": "markdown",
   "metadata": {},
   "source": [
    "**Attention** : enregistrer cette feuille Jupyter dans le même dossier que le fichier des données !\n",
    "\n",
    "Ou : si vous utilisez une session en ligne, importez la table de données dans l'espace de stockage (juste à gauche de la page, en cliquant sur la petite flèche, puis Fichiers > Importer)"
   ]
  },
  {
   "cell_type": "markdown",
   "metadata": {},
   "source": [
    "**Script Python pour ouvrir la table de données et la transformer en liste**\n",
    "\n",
    "Exécuter le script suivant (pour exécuter un script, se placer dans la cellule et taper `CTRL`+`ENTRER`)."
   ]
  },
  {
   "cell_type": "code",
   "execution_count": null,
   "metadata": {},
   "outputs": [],
   "source": [
    "import csv\n",
    "f = open(\"Taux_d_expression_des_femmes_radio_et_tele.csv\",\"r\")\n",
    "c = csv.reader(f, delimiter=',')\n",
    "mes_donnees = []\n",
    "for ligne in c:\n",
    "    mes_donnees.append(ligne)\n",
    "f.close()"
   ]
  },
  {
   "cell_type": "markdown",
   "metadata": {},
   "source": [
    "**Question a.** \n",
    "\n",
    "Faire quelques tests d'affichage des données pour comprendre la structure de données utilisée. Consuter l'`AIDE 3` si besoin.\n",
    "\n",
    "Exécuter/compléter les instructions suivantes."
   ]
  },
  {
   "cell_type": "markdown",
   "metadata": {},
   "source": [
    "Voici les instructions permettant d'afficher la première ligne du tableau, c'est-à-dire le nom des descripteurs :"
   ]
  },
  {
   "cell_type": "code",
   "execution_count": null,
   "metadata": {},
   "outputs": [],
   "source": [
    "objet=mes_donnees[0]\n",
    "print(objet)"
   ]
  },
  {
   "cell_type": "markdown",
   "metadata": {},
   "source": [
    "La ligne suivante est donc le premier objet de la table :"
   ]
  },
  {
   "cell_type": "code",
   "execution_count": null,
   "metadata": {},
   "outputs": [],
   "source": [
    "objet=mes_donnees[1]\n",
    "print(objet)"
   ]
  },
  {
   "cell_type": "markdown",
   "metadata": {},
   "source": [
    "Ecrire dans la cellule ci-dessous les instructions permettant d'afficher le deuxième objet de la table, puis l'exécuter."
   ]
  },
  {
   "cell_type": "code",
   "execution_count": null,
   "metadata": {},
   "outputs": [],
   "source": [
    "\n",
    "\n"
   ]
  },
  {
   "cell_type": "markdown",
   "metadata": {},
   "source": [
    "Ecrire dans la cellule ci-dessous les instructions permettant d'afficher le dixième objet de la table, puis l'exécuter."
   ]
  },
  {
   "cell_type": "code",
   "execution_count": null,
   "metadata": {},
   "outputs": [],
   "source": [
    "\n",
    "\n"
   ]
  },
  {
   "cell_type": "markdown",
   "metadata": {},
   "source": [
    "Et comment afficher tous les objets de la table ?"
   ]
  },
  {
   "cell_type": "code",
   "execution_count": null,
   "metadata": {},
   "outputs": [],
   "source": [
    "for objet in mes_donnees:\n",
    "    print(objet)"
   ]
  },
  {
   "cell_type": "markdown",
   "metadata": {},
   "source": [
    "Voici les instructions permettant d'afficher la sixième valeur du premier objet de la table :"
   ]
  },
  {
   "cell_type": "code",
   "execution_count": null,
   "metadata": {},
   "outputs": [],
   "source": [
    "objet=mes_donnees[1]\n",
    "valeur=objet[5]\n",
    "print(valeur)"
   ]
  },
  {
   "cell_type": "markdown",
   "metadata": {},
   "source": [
    "On peut aussi écrire :"
   ]
  },
  {
   "cell_type": "code",
   "execution_count": null,
   "metadata": {},
   "outputs": [],
   "source": [
    "objet=mes_donnees[1]\n",
    "print(objet[5])"
   ]
  },
  {
   "cell_type": "markdown",
   "metadata": {},
   "source": [
    "Ecrire dans la cellule ci-dessous les instructions permettant d'afficher la première valeur du dixième objet de la table, puis l'exécuter."
   ]
  },
  {
   "cell_type": "code",
   "execution_count": null,
   "metadata": {},
   "outputs": [],
   "source": [
    "\n",
    "\n"
   ]
  },
  {
   "cell_type": "markdown",
   "metadata": {},
   "source": [
    "Si `objet` est est le premier objet de la table, la valeur `objet[5]` est-elle lue par la machine comme un nombre ou comme un texte ?\n",
    "\n",
    "Lançons un test : comparons cette valeur à zéro."
   ]
  },
  {
   "cell_type": "code",
   "execution_count": null,
   "metadata": {},
   "outputs": [],
   "source": [
    "objet=mes_donnees[1]\n",
    "objet[5] > 0"
   ]
  },
  {
   "cell_type": "markdown",
   "metadata": {},
   "source": [
    "Cette valeur est donc de type `str` pour la machine, c'est-à-dire un texte.\n",
    "\n",
    "Pour manipuler cette valeur comme un nombre décimal, il faut alors utiliser l'instruction `float()` ; pour la manipuler comme un nombre entier, il faut utiliser l'instuction `int()` :\n"
   ]
  },
  {
   "cell_type": "code",
   "execution_count": null,
   "metadata": {},
   "outputs": [],
   "source": [
    "print(float(objet[5]))"
   ]
  },
  {
   "cell_type": "code",
   "execution_count": null,
   "metadata": {},
   "outputs": [],
   "source": [
    "float(objet[5]) > 0"
   ]
  },
  {
   "cell_type": "markdown",
   "metadata": {},
   "source": [
    "ça fonctionne !"
   ]
  },
  {
   "cell_type": "markdown",
   "metadata": {},
   "source": [
    "**Question b.** \n",
    "\n",
    "Compléter l'algorithme suivant permettant d'obtenir le taux moyen d'expression des femmes :"
   ]
  },
  {
   "cell_type": "raw",
   "metadata": {},
   "source": [
    "compteur reçoit la valeur 0\n",
    "total reçoit la valeur 0\n",
    "Pour chaque objet de la table de données, faire :\n",
    "    total reçoit la valeur ......\n",
    "    compteur reçoit la valeur .....\n",
    "taux_moyen reçoit la valeur .....\n",
    "afficher taux_moyen"
   ]
  },
  {
   "cell_type": "markdown",
   "metadata": {},
   "source": [
    "**Question c.** \n",
    "\n",
    "Implémenter cet algorithme en langage Python, l'exécuter, et vérifier que le résultat est cohérent avec celui de la `Question 1 d.`."
   ]
  },
  {
   "cell_type": "code",
   "execution_count": null,
   "metadata": {},
   "outputs": [],
   "source": [
    "compteur = 0\n",
    "total = 0\n",
    "for objet in mes_donnees[1:]: # [1:] signifie que l'on veut regarder le tableau qu'à partir de la ligne 1, on \"saute\" la ligne 0 qui ne contient que le nom des descripteurs\n",
    "\n",
    "    \n",
    "taux_moyen = \n",
    "print(taux_moyen)"
   ]
  },
  {
   "cell_type": "markdown",
   "metadata": {},
   "source": [
    "**Autre possibilité** : à l'aide d'une fonction "
   ]
  },
  {
   "cell_type": "code",
   "execution_count": null,
   "metadata": {},
   "outputs": [],
   "source": [
    "def calcul_taux_moyen(table):\n",
    "    compteur = 0\n",
    "    total = 0\n",
    "    for objet in table[1:]: \n",
    "        \n",
    "        \n",
    "    taux_moyen = \n",
    "    return(taux_moyen)"
   ]
  },
  {
   "cell_type": "markdown",
   "metadata": {},
   "source": [
    "Puis on appelle la fonction :"
   ]
  },
  {
   "cell_type": "code",
   "execution_count": null,
   "metadata": {},
   "outputs": [],
   "source": [
    "calcul_taux_moyen(mes_donnees)"
   ]
  },
  {
   "cell_type": "markdown",
   "metadata": {},
   "source": [
    "**Question d.** \n",
    "\n",
    "A l'aide d'un test sur les valeurs d'un descripteur, modifier le programme pour avoir le taux moyen d'expression des femmes entre 2010 et 2018. "
   ]
  },
  {
   "cell_type": "code",
   "execution_count": null,
   "metadata": {},
   "outputs": [],
   "source": [
    "\n",
    "\n",
    "\n"
   ]
  },
  {
   "cell_type": "markdown",
   "metadata": {},
   "source": [
    "**Question e.** \n",
    "\n",
    "Modifier le programme pour avoir le taux moyen d'expression des femmes entre 2010 et 2018 à la radio, puis à la télévision."
   ]
  },
  {
   "cell_type": "code",
   "execution_count": null,
   "metadata": {},
   "outputs": [],
   "source": [
    "\n",
    "\n",
    "\n"
   ]
  },
  {
   "cell_type": "markdown",
   "metadata": {},
   "source": [
    "**Question f.** \n",
    "\n",
    "Modififer le programme pour avoir le taux moyen d'expression des femmes entre 2010 et 2018 à la radio à 5h, puis à chaque heure de la journée. Repésenter ces données à l'aide d'un graphique en bâtons."
   ]
  },
  {
   "cell_type": "markdown",
   "metadata": {},
   "source": [
    " * à la radio à 5h :"
   ]
  },
  {
   "cell_type": "code",
   "execution_count": null,
   "metadata": {},
   "outputs": [],
   "source": [
    "\n",
    "\n",
    "\n"
   ]
  },
  {
   "cell_type": "markdown",
   "metadata": {},
   "source": [
    " * à chaque heure de la journée :"
   ]
  },
  {
   "cell_type": "code",
   "execution_count": null,
   "metadata": {},
   "outputs": [],
   "source": [
    "\n",
    "\n",
    "\n"
   ]
  },
  {
   "cell_type": "markdown",
   "metadata": {},
   "source": [
    " * puis représenter ces données à l'aide d'un diagramme en bâtons :\n",
    " \n",
    "Pour représenter ces données à l'aide d'un diagramme en bâtos, nous allons avoir besoin de la fonction `bar` de la bibliothèque `matplotlib.pyplot`. Exemple :"
   ]
  },
  {
   "cell_type": "code",
   "execution_count": null,
   "metadata": {},
   "outputs": [],
   "source": [
    "trucs = ['a','b','c','d','e','f']\n",
    "bidules = [10,4,15,2,20,7]\n",
    "\n",
    "from matplotlib.pyplot import * \n",
    "bar(trucs,bidules)     \n",
    "grid()     \n",
    "xlabel(\"trucs\")     \n",
    "ylabel(\"bidules\")   \n",
    "show()"
   ]
  },
  {
   "cell_type": "markdown",
   "metadata": {},
   "source": [
    "Il faut donc que nos données soient stockées dans deux variables : `liste_heures` pour les heures, `liste_taux_moyens_par_heure` pour les taux."
   ]
  },
  {
   "cell_type": "code",
   "execution_count": null,
   "metadata": {},
   "outputs": [],
   "source": [
    "liste_heures = range(25)"
   ]
  },
  {
   "cell_type": "markdown",
   "metadata": {},
   "source": [
    "Modifier le programme précédent pour enregistrer les taux moyens par heure dans `taux_moyens_par_heure` :"
   ]
  },
  {
   "cell_type": "code",
   "execution_count": 1,
   "metadata": {},
   "outputs": [],
   "source": [
    "liste_taux_moyens_par_heure = [0,0,0,0,0,0,0,0,0,0,0,0,0,0,0,0,0,0,0,0,0,0,0,0,0]"
   ]
  },
  {
   "cell_type": "code",
   "execution_count": null,
   "metadata": {},
   "outputs": [],
   "source": []
  },
  {
   "cell_type": "markdown",
   "metadata": {},
   "source": [
    "Puis afficher le graphique en bâtons :"
   ]
  },
  {
   "cell_type": "code",
   "execution_count": null,
   "metadata": {},
   "outputs": [],
   "source": []
  },
  {
   "cell_type": "code",
   "execution_count": null,
   "metadata": {},
   "outputs": [],
   "source": []
  }
 ],
 "metadata": {
  "kernelspec": {
   "display_name": "Python 3",
   "language": "python",
   "name": "python3"
  },
  "language_info": {
   "codemirror_mode": {
    "name": "ipython",
    "version": 3
   },
   "file_extension": ".py",
   "mimetype": "text/x-python",
   "name": "python",
   "nbconvert_exporter": "python",
   "pygments_lexer": "ipython3",
   "version": "3.7.0"
  }
 },
 "nbformat": 4,
 "nbformat_minor": 2
}
